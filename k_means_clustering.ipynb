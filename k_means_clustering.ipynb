{
 "cells": [
  {
   "cell_type": "markdown",
   "metadata": {},
   "source": [
    "# k-Means Clustering\n",
    "\n",
    "In this notebook, you will implement the k-means clustering algorithm.\n",
    "\n",
    "## Packages\n",
    "\n",
    "Following packages is all you need. Do not import any additional packages!\n",
    "\n",
    "In case you are not familiar with [Numpy](http://www.numpy.org/) library, it provides support for large multi-dimensional arrays and matrices, along with functions to operate on these. [Matplotlib](https://matplotlib.org/) is a plotting library."
   ]
  },
  {
   "cell_type": "code",
   "execution_count": 26,
   "metadata": {},
   "outputs": [],
   "source": [
    "import numpy as np\n",
    "%matplotlib inline\n",
    "from matplotlib import pyplot as plt"
   ]
  },
  {
   "cell_type": "markdown",
   "metadata": {},
   "source": [
    "## Function\n",
    "\n",
    "A function for plotting that we are going to use later on."
   ]
  },
  {
   "cell_type": "code",
   "execution_count": 27,
   "metadata": {},
   "outputs": [],
   "source": [
    "def plot_clusters(data, centroids):\n",
    "    \"\"\"\n",
    "    Shows a scatter plot with the data points clustered according to the centroids.\n",
    "    \"\"\"\n",
    "    # Assigning the data points to clusters/centroids.\n",
    "    clusters = [[] for _ in range(centroids.shape[0])]\n",
    "    for i in range(data.shape[0]):\n",
    "        distances = np.linalg.norm(data[i] - centroids, axis=1)\n",
    "        clusters[np.argmin(distances)].append(data[i])\n",
    "\n",
    "    # Plotting clusters and centroids.\n",
    "    fig, ax = plt.subplots()\n",
    "    for c in range(centroids.shape[0]):\n",
    "        if len(clusters[c]) > 0:\n",
    "            cluster = np.array(clusters[c])\n",
    "            ax.scatter(cluster[:, 0], cluster[:, 1], s=7)\n",
    "    ax.scatter(centroids[:, 0], centroids[:, 1], marker='x', s=200, c='red')"
   ]
  },
  {
   "cell_type": "markdown",
   "metadata": {},
   "source": [
    "## Data\n",
    "\n",
    "Let us generate a dataset you are going to play with. We will stay in the Euclidean space because it is easy to plot."
   ]
  },
  {
   "cell_type": "code",
   "execution_count": 28,
   "metadata": {},
   "outputs": [
    {
     "name": "stdout",
     "output_type": "stream",
     "text": [
      "[[27.64052346  3.46736574]\n",
      " [14.00157208 18.2906534 ]\n",
      " [19.78737984  9.40917977]\n",
      " ...\n",
      " [80.85621773 20.91725127]\n",
      " [80.19454353 17.64628751]\n",
      " [83.13282125 21.36398195]]\n"
     ]
    }
   ],
   "source": [
    "# We would like to have some control over the randomly generated data.\n",
    "# This is just for development purposes.\n",
    "np.random.seed(0)\n",
    "\n",
    "# Euclidean space.\n",
    "DIMENSIONS = 2\n",
    "\n",
    "# We will generate clusters.\n",
    "CLUSTERS = [\n",
    "    {\n",
    "        'mean': (10, 10),\n",
    "        'std': (10, 5),\n",
    "        'size': 300\n",
    "    },\n",
    "    {\n",
    "        'mean': (10, 85),\n",
    "        'std': (10, 3),\n",
    "        'size': 100\n",
    "    },\n",
    "    {\n",
    "        'mean': (50, 50),\n",
    "        'std': (6, 6),\n",
    "        'size': 200\n",
    "    },\n",
    "    {\n",
    "        'mean': (80, 75),\n",
    "        'std': (5, 10),\n",
    "        'size': 200\n",
    "    },\n",
    "    {\n",
    "        'mean': (80, 20),\n",
    "        'std': (5, 5),\n",
    "        'size': 100\n",
    "    }\n",
    "]\n",
    "\n",
    "# Initializing the dataset with zeros.\n",
    "synthetic_data = np.zeros((np.sum([c['size'] for c in CLUSTERS]), DIMENSIONS))\n",
    "\n",
    "# Generating the clusters.\n",
    "start = 0\n",
    "for c in CLUSTERS:\n",
    "    for d in range(DIMENSIONS):\n",
    "        synthetic_data[start:start + c['size'], d] = np.random.normal(c['mean'][d], c['std'][d], (c['size']))\n",
    "    start += c['size']\n",
    "print(synthetic_data)"
   ]
  },
  {
   "cell_type": "code",
   "execution_count": 29,
   "metadata": {},
   "outputs": [
    {
     "name": "stdout",
     "output_type": "stream",
     "text": [
      "shape (size, dimensions) = (900, 2)\n"
     ]
    }
   ],
   "source": [
    "print('shape (size, dimensions) =', synthetic_data.shape)"
   ]
  },
  {
   "cell_type": "markdown",
   "metadata": {},
   "source": [
    "And this is how our data look like when plotted."
   ]
  },
  {
   "cell_type": "code",
   "execution_count": 30,
   "metadata": {},
   "outputs": [
    {
     "data": {
      "text/plain": [
       "<matplotlib.collections.PathCollection at 0x119748d30>"
      ]
     },
     "execution_count": 30,
     "metadata": {},
     "output_type": "execute_result"
    },
    {
     "data": {
      "image/png": "[encoded data removed]",
      "text/plain": [
       "<Figure size 432x288 with 1 Axes>"
      ]
     },
     "metadata": {
      "needs_background": "light"
     },
     "output_type": "display_data"
    }
   ],
   "source": [
    "plt.figure()\n",
    "plt.scatter(synthetic_data[:, 0], synthetic_data[:, 1], s=3)"
   ]
  },
  {
   "cell_type": "markdown",
   "metadata": {},
   "source": [
    "## Implementation\n",
    "\n",
    "A human can with an ease find five distinct clusters just by watching the plot. A computer, however, needs to be told how to find the clusters.\n",
    "\n",
    "**Exercise:**\n",
    "\n",
    "Implement the k-means clustering algorithm.\n",
    "\n",
    "* Use the Euclidean (L<sub>2</sub>) distance.\n",
    "* It is sufficient to use the basic Python constructs in your implementation, even though we heavily rely on Numpy throughout this assignment."
   ]
  },
  {
   "cell_type": "code",
   "execution_count": 31,
   "metadata": {},
   "outputs": [],
   "source": [
    "def euclidean_distance(point, centroid):\n",
    "    \"\"\"\n",
    "    Function implementing the euclidean distance between two points\n",
    "\n",
    "    :param point\n",
    "        np.array of a data point [x,y]\n",
    "\n",
    "    :param centroid \n",
    "        np.array of centroid [x,y]\n",
    "    \n",
    "    :return \n",
    "        euclidean distance between centroid and point\n",
    "    \"\"\"\n",
    "    return np.sqrt(np.sum((point - centroid)**2))\n",
    "\n",
    "def calculate_centroid(clusters, centroids):\n",
    "    \"\"\"\n",
    "    Function implementing the new centroids \n",
    "\n",
    "    :param clusters\n",
    "        a list with all points in one cluster\n",
    "\n",
    "    :param centroids \n",
    "        a numpy array of the centroids \n",
    "\n",
    "    :return \n",
    "        a numpy array of the updated centroids \n",
    "    \"\"\"\n",
    "    number_centroids = len(centroids)\n",
    "    #updated_centroids = np.zeros(shape=(number_centroids,2))\n",
    "    updated_centroids = []\n",
    "    \n",
    "    count = 0\n",
    "    for centroid in centroids:\n",
    "        number_points = len(clusters[count])\n",
    "        # Finding the average point given all points in one cluster\n",
    "        calculate_new_centroid = np.sum(clusters[count], axis=0)/number_points # TODO: SE PÅ DENNE\n",
    "        updated_centroids.append(calculate_new_centroid)\n",
    "        count =+ 1\n",
    "    return updated_centroids\n",
    "\n",
    "def kmeans(data, centroids):\n",
    "    \"\"\"\n",
    "    Function implementing the k-means clustering.\n",
    "    \n",
    "    :param data\n",
    "        a 2D array with points\n",
    "    :param centroids\n",
    "        initial centroids\n",
    "        a 2D array containing the coordinates of initial points\n",
    "    :return\n",
    "        final centroids\n",
    "    \"\"\"\n",
    "    # The key of the dictionary will be the centroids, while the items will be the points in the data\n",
    "    clusters = []\n",
    "\n",
    "    for i in range(len(centroids)): \n",
    "        clusters.append([])\n",
    "    # For each point in data array\n",
    "    for point in data: \n",
    "        # Find the distance between a row (point) and the centroids, key is centroid and item is distance between\n",
    "        distances = []\n",
    "        for centroid in centroids:\n",
    "            # Find the distances\n",
    "            distances.append(euclidean_distance(point, centroid))\n",
    "        # Placing a point into a cluster given the index of the minimum value\n",
    "        clusters[distances.index(min(distances))].append(point)\n",
    "    \n",
    "    # Recalculate the centroids \n",
    "    new_centroids = calculate_centroid(clusters, centroids)\n",
    "\n",
    "    # Deciding when to stop calulating the new centroids and when not to\n",
    "    if (np.array_equal(new_centroids,centroids)):\n",
    "        print('når kommer du hit?')\n",
    "        return new_centroids\n",
    "    else:\n",
    "        kmeans(data,new_centroids)\n",
    "        return new_centroids"
   ]
  },
  {
   "cell_type": "code",
   "execution_count": 32,
   "metadata": {},
   "outputs": [
    {
     "ename": "ValueError",
     "evalue": "could not broadcast input array from shape (60,) into shape (3,)",
     "output_type": "error",
     "traceback": [
      "\u001b[0;31m---------------------------------------------------------------------------\u001b[0m",
      "\u001b[0;31mValueError\u001b[0m                                Traceback (most recent call last)",
      "\u001b[0;32m<ipython-input-32-39163c90acbf>\u001b[0m in \u001b[0;36m<module>\u001b[0;34m\u001b[0m\n\u001b[1;32m     37\u001b[0m ])\n\u001b[1;32m     38\u001b[0m \u001b[0;34m\u001b[0m\u001b[0m\n\u001b[0;32m---> 39\u001b[0;31m \u001b[0mtest_centroids\u001b[0m \u001b[0;34m=\u001b[0m \u001b[0mkmeans\u001b[0m\u001b[0;34m(\u001b[0m\u001b[0mtest_data\u001b[0m\u001b[0;34m,\u001b[0m \u001b[0mtest_centroids\u001b[0m\u001b[0;34m)\u001b[0m\u001b[0;34m\u001b[0m\u001b[0;34m\u001b[0m\u001b[0m\n\u001b[0m\u001b[1;32m     40\u001b[0m \u001b[0;34m\u001b[0m\u001b[0m\n\u001b[1;32m     41\u001b[0m \u001b[0mprint\u001b[0m\u001b[0;34m(\u001b[0m\u001b[0;34m'c0 ='\u001b[0m\u001b[0;34m,\u001b[0m \u001b[0mtest_centroids\u001b[0m\u001b[0;34m[\u001b[0m\u001b[0;36m0\u001b[0m\u001b[0;34m]\u001b[0m\u001b[0;34m)\u001b[0m\u001b[0;34m\u001b[0m\u001b[0;34m\u001b[0m\u001b[0m\n",
      "\u001b[0;32m<ipython-input-31-e5d6ba25c9ca>\u001b[0m in \u001b[0;36mkmeans\u001b[0;34m(data, centroids)\u001b[0m\n\u001b[1;32m     74\u001b[0m \u001b[0;34m\u001b[0m\u001b[0m\n\u001b[1;32m     75\u001b[0m     \u001b[0;31m# Recalculate the centroids\u001b[0m\u001b[0;34m\u001b[0m\u001b[0;34m\u001b[0m\u001b[0;34m\u001b[0m\u001b[0m\n\u001b[0;32m---> 76\u001b[0;31m     \u001b[0mnew_centroids\u001b[0m \u001b[0;34m=\u001b[0m \u001b[0mcalculate_centroid\u001b[0m\u001b[0;34m(\u001b[0m\u001b[0mclusters\u001b[0m\u001b[0;34m,\u001b[0m \u001b[0mcentroids\u001b[0m\u001b[0;34m)\u001b[0m\u001b[0;34m\u001b[0m\u001b[0;34m\u001b[0m\u001b[0m\n\u001b[0m\u001b[1;32m     77\u001b[0m \u001b[0;34m\u001b[0m\u001b[0m\n\u001b[1;32m     78\u001b[0m     \u001b[0;31m# Deciding when to stop calulating the new centroids and when not to\u001b[0m\u001b[0;34m\u001b[0m\u001b[0;34m\u001b[0m\u001b[0;34m\u001b[0m\u001b[0m\n",
      "\u001b[0;32m<ipython-input-31-e5d6ba25c9ca>\u001b[0m in \u001b[0;36mcalculate_centroid\u001b[0;34m(clusters, centroids)\u001b[0m\n\u001b[1;32m     42\u001b[0m                 \u001b[0mnew_centroid\u001b[0m\u001b[0;34m.\u001b[0m\u001b[0mappend\u001b[0m\u001b[0;34m(\u001b[0m\u001b[0my\u001b[0m\u001b[0;34m)\u001b[0m\u001b[0;34m\u001b[0m\u001b[0;34m\u001b[0m\u001b[0m\n\u001b[1;32m     43\u001b[0m         \u001b[0;31m# Creating the updated centroids\u001b[0m\u001b[0;34m\u001b[0m\u001b[0;34m\u001b[0m\u001b[0;34m\u001b[0m\u001b[0m\n\u001b[0;32m---> 44\u001b[0;31m         \u001b[0mupdated_centroids\u001b[0m\u001b[0;34m[\u001b[0m\u001b[0mcount\u001b[0m\u001b[0;34m]\u001b[0m \u001b[0;34m=\u001b[0m \u001b[0mnew_centroid\u001b[0m\u001b[0;34m\u001b[0m\u001b[0;34m\u001b[0m\u001b[0m\n\u001b[0m\u001b[1;32m     45\u001b[0m         \u001b[0mcount\u001b[0m \u001b[0;34m=\u001b[0m\u001b[0;34m+\u001b[0m \u001b[0;36m1\u001b[0m\u001b[0;34m\u001b[0m\u001b[0;34m\u001b[0m\u001b[0m\n\u001b[1;32m     46\u001b[0m     \u001b[0;32mreturn\u001b[0m \u001b[0mupdated_centroids\u001b[0m\u001b[0;34m\u001b[0m\u001b[0;34m\u001b[0m\u001b[0m\n",
      "\u001b[0;31mValueError\u001b[0m: could not broadcast input array from shape (60,) into shape (3,)"
     ]
    }
   ],
   "source": [
    "test_data = np.array([\n",
    "    [66.24345364, 57.31053969],\n",
    "    [43.88243586, 39.69929645],\n",
    "    [44.71828248, 48.38791398],\n",
    "    [39.27031378, 48.07972823],\n",
    "    [58.65407629, 55.66884721],\n",
    "    [26.98461303, 44.50054366],\n",
    "    [67.44811764, 49.13785896],\n",
    "    [42.38793099, 45.61070791],\n",
    "    [53.19039096, 50.21106873],\n",
    "    [47.50629625, 52.91407607],\n",
    "    [2.29566576, 20.15837474],\n",
    "    [18.01306597, 22.22272531],\n",
    "    [16.31113504, 20.1897911 ],\n",
    "    [13.51746037, 19.08356051],\n",
    "    [16.30599164, 20.30127708],\n",
    "    [5.21390499, 24.91134781],\n",
    "    [9.13976842, 17.17882756],\n",
    "    [3.44961396, 26.64090988],\n",
    "    [8.12478344, 36.61861524],\n",
    "    [13.71248827, 30.19430912],\n",
    "    [74.04082224, 23.0017032 ],\n",
    "    [70.56185518, 16.47750154],\n",
    "    [71.26420853, 8.57481802],\n",
    "    [83.46227301, 16.50657278],\n",
    "    [75.25403877, 17.91105767],\n",
    "    [71.81502177, 25.86623191],\n",
    "    [75.95457742, 28.38983414],\n",
    "    [85.50127568, 29.31102081],\n",
    "    [75.60079476, 22.85587325],\n",
    "    [78.08601555, 28.85141164]\n",
    "])\n",
    "test_centroids = np.array([\n",
    "    [25, 50],\n",
    "    [50, 50],\n",
    "    [75, 50]\n",
    "])\n",
    "\n",
    "test_centroids = kmeans(test_data, test_centroids)\n",
    "\n",
    "print('c0 =', test_centroids[0])\n",
    "print('c1 =', test_centroids[1])\n",
    "print('c2 =', test_centroids[2])\n",
    "plot_clusters(test_data, test_centroids)"
   ]
  },
  {
   "cell_type": "markdown",
   "metadata": {},
   "source": [
    "We expect the output to be similar to following.\n",
    "\n",
    "```\n",
    "c0 = [ 9 25]\n",
    "c1 = [50 50]\n",
    "c2 = [75 20]\n",
    "```\n",
    "\n",
    "If it is not the case, review your implementation, debug your algorithm, try it on paper, ..."
   ]
  },
  {
   "cell_type": "markdown",
   "metadata": {},
   "source": [
    "## Clustering\n",
    "\n",
    "Ready to run your implementation of k-means clustering on the dataset? Let's do it...\n",
    "\n",
    "First, we need to initialize the centroids. We will go for a random initialization eventhough there are some disadvantages of doing so (see the Introduction to Data Mining from Tan et al.)."
   ]
  },
  {
   "cell_type": "code",
   "execution_count": null,
   "metadata": {},
   "outputs": [],
   "source": [
    "# Number of clusters.\n",
    "K = 5\n",
    "\n",
    "# Boundaries of our data.\n",
    "x_min = np.min(synthetic_data[:, 0])\n",
    "x_max = np.max(synthetic_data[:, 0])\n",
    "y_min = np.min(synthetic_data[:, 1])\n",
    "y_max = np.max(synthetic_data[:, 1])\n",
    "\n",
    "# Generating random centroids within the data boundaries.\n",
    "centroids = np.zeros((K, synthetic_data.shape[1]))\n",
    "centroids[:, 0] = np.random.randint(x_min, x_max, size=K)\n",
    "centroids[:, 1] = np.random.randint(y_min, y_max, size=K)\n",
    "\n",
    "for i in range(len(centroids)):\n",
    "    print('c%d =' % i, centroids[i])\n",
    "plot_clusters(synthetic_data, centroids)"
   ]
  },
  {
   "cell_type": "markdown",
   "metadata": {},
   "source": [
    "Finally, we run the `kmeans()` function you have implemented."
   ]
  },
  {
   "cell_type": "code",
   "execution_count": null,
   "metadata": {},
   "outputs": [],
   "source": [
    "centroids = kmeans(synthetic_data, centroids)\n",
    "\n",
    "# plt.scatter(data[:, 0], data[:, 1], s=3)\n",
    "# plt.scatter(centroids[:, 0], centroids[:, 1], marker='x', s=200, c='red')\n",
    "\n",
    "for i in range(len(centroids)):\n",
    "    print('c%d =' % i, centroids[i])\n",
    "plot_clusters(synthetic_data, centroids)"
   ]
  },
  {
   "cell_type": "markdown",
   "metadata": {},
   "source": [
    "Congratulations! At this point, hopefully, you have found all five distinct clusters with the centroids aligned in their centers.\n",
    "\n",
    "## Evaluation of Clustering\n",
    "\n",
    "Silhouette Coefficient is an example of a measure for validation of the cluster quality.\n",
    "\n",
    "**Exercise:**\n",
    "\n",
    "Implement a function calculating the mean Silhouette Coefficient of all samples.\n",
    "\n",
    "* Use the Euclidean (L<sub>2</sub>) distance.\n",
    "* It is sufficient to use the basic Python constructs in your implementation, even though we heavily rely on Numpy throughout this assignment."
   ]
  },
  {
   "cell_type": "code",
   "execution_count": null,
   "metadata": {},
   "outputs": [],
   "source": [
    "def silhouette_score(data, centroids):\n",
    "    \"\"\"\n",
    "    Function implementing the k-means clustering.\n",
    "    \n",
    "    :param data\n",
    "        data\n",
    "    :param centroids\n",
    "        centroids\n",
    "    :return\n",
    "        mean Silhouette Coefficient of all samples\n",
    "    \"\"\"\n",
    "    ### START CODE HERE ### \n",
    "\n",
    "    ### END CODE HERE ### \n",
    "    return score"
   ]
  },
  {
   "cell_type": "markdown",
   "metadata": {},
   "source": [
    "First, let's see if the algorithm executes on the test data."
   ]
  },
  {
   "cell_type": "code",
   "execution_count": null,
   "metadata": {},
   "outputs": [],
   "source": [
    "silhouette_score(test_data, test_centroids)"
   ]
  },
  {
   "cell_type": "markdown",
   "metadata": {},
   "source": [
    "We expect the output to be around `0.675`.\n",
    "\n",
    "Finally, let's cluster again our synthetic data and calculate the Silhouette Coefficient."
   ]
  },
  {
   "cell_type": "code",
   "execution_count": null,
   "metadata": {},
   "outputs": [],
   "source": [
    "centroids = np.zeros((K, synthetic_data.shape[1]))\n",
    "centroids[:, 0] = np.random.randint(x_min, x_max, size=K)\n",
    "centroids[:, 1] = np.random.randint(y_min, y_max, size=K)\n",
    "\n",
    "centroids = kmeans(synthetic_data, centroids)\n",
    "silhouette_coefficient = silhouette_score(synthetic_data, centroids)\n",
    "\n",
    "print('silhouette_coefficient =', silhouette_coefficient)\n",
    "plot_clusters(synthetic_data, centroids)"
   ]
  },
  {
   "cell_type": "markdown",
   "metadata": {},
   "source": [
    "**Exercise:**\n",
    "\n",
    "* Run the clustering multiple times and pay attention to the results.\n",
    "* In the *Discussion* below, describe your observations and discuss reasons for the possibly strong or weak performance of the algorithm. If you identify any weaknesses, suggest a possible solution.\n",
    "\n",
    "## Discussion\n",
    "\n",
    "<span style=\"color: red;\">*Place for your discussion.*</span> ✌️"
   ]
  },
  {
   "cell_type": "code",
   "execution_count": null,
   "metadata": {},
   "outputs": [],
   "source": []
  }
 ],
 "metadata": {
  "kernelspec": {
   "display_name": "Python 3",
   "language": "python",
   "name": "python3"
  },
  "language_info": {
   "codemirror_mode": {
    "name": "ipython",
    "version": 3
   },
   "file_extension": ".py",
   "mimetype": "text/x-python",
   "name": "python",
   "nbconvert_exporter": "python",
   "pygments_lexer": "ipython3",
   "version": "3.9.1"
  }
 },
 "nbformat": 4,
 "nbformat_minor": 4
}